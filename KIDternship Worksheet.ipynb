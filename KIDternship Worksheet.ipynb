{
 "cells": [
  {
   "cell_type": "markdown",
   "id": "53dd3b46",
   "metadata": {},
   "source": [
    "# Welcome to the Wonderful World of APIs\n",
    "\n",
    "Welcome to our exciting journey into the world of APIs! An API, or Application Programming Interface, is like a magical bridge that allows different software applications to talk to each other. Imagine being able to make your favorite apps and websites work together seamlessly—that's the power of APIs! In this worksheet, we will explore the basics of how APIs work, why they are so important in the tech world, and even try out some fun exercises to see them in action. Get ready to unlock the secrets of connecting apps and making technology more powerful and interactive!"
   ]
  },
  {
   "cell_type": "markdown",
   "id": "c14235f8",
   "metadata": {},
   "source": [
    "First, we need to import all the necessary libraries to run our code.\n",
    "\n",
    "##### What is a library? \n",
    "In programming, libraries are collections of pre-written code that developers can use to perform specific tasks more efficiently."
   ]
  },
  {
   "cell_type": "code",
   "execution_count": null,
   "id": "75abb96e",
   "metadata": {},
   "outputs": [],
   "source": [
    "import requests"
   ]
  },
  {
   "cell_type": "markdown",
   "id": "b3bd0422",
   "metadata": {},
   "source": [
    "Next, we need to set up some global variables.\n",
    "\n",
    "##### What is a global variable?\n",
    "In computer programming, a global variable is a variable that can be accessed by any part of a program. In our case, any code blocks on this page will be able to use these variables. This is achieved using the `%store` function, which saves the variable in memory."
   ]
  },
  {
   "cell_type": "code",
   "execution_count": null,
   "id": "74544ef4",
   "metadata": {},
   "outputs": [],
   "source": [
    "contextRoot = 'https://api-kidternship.thegonzalezes.io'\n",
    "%store contextRoot\n",
    "\n",
    "wordCloudUrl = contextRoot + '/wordcloud/words'\n",
    "%store wordCloudUrl\n",
    "\n",
    "helloWorldUrl = contextRoot + '/introduction/hello-world'\n",
    "%store helloWorldUrl\n",
    "\n",
    "userIdUrl = contextRoot + '/introduction/user-id'\n",
    "%store userIdUrl\n",
    "\n",
    "foodUrl = contextRoot + '/introduction/food'\n",
    "%store foodUrl\n",
    "\n",
    "menuUrl = contextRoot + '/bakery/menu'\n",
    "%store menuUrl\n",
    "\n",
    "ordersUrl = contextRoot + '/bakery/orders'\n",
    "%store ordersUrl"
   ]
  },
  {
   "cell_type": "markdown",
   "id": "c630479a",
   "metadata": {},
   "source": [
    "## What is an API?\n",
    "\n",
    "Find `'INSERT YOUR WORD(S) HERE'` in the next code block and replace with one or two words that come to mind when you think of 'Application Programming Interface'. Remember to maintain the single quotes `''` around your words."
   ]
  },
  {
   "cell_type": "code",
   "execution_count": null,
   "id": "7abc0f71",
   "metadata": {},
   "outputs": [],
   "source": [
    "myWords = {'word': 'INSERT YOUR WORD(S) HERE'}\n",
    "\n",
    "response = requests.post(wordCloudUrl, json = myWords)\n",
    "\n",
    "print('Response Code: ' + str(response.status_code))\n",
    "print('Response Message: ' + response.json().get('message'))"
   ]
  },
  {
   "cell_type": "markdown",
   "id": "f365877f",
   "metadata": {},
   "source": [
    "API stands for Application Programming Interface, and it’s like the secret handshake that lets different software applications talk to each other!\n",
    "\n",
    "In the world of APIs:\n",
    "- 'Application' is any software that has a unique job to do.\n",
    "- 'Interface' is like a friendly agreement between two applications on how they will communicate.\n",
    "\n",
    "APIs are the magic tools that allow two software components to chat with each other using a common language and set of rules. Ready to explore this amazing world of digital conversation? Let’s dive in!"
   ]
  },
  {
   "cell_type": "markdown",
   "id": "c3b9801a",
   "metadata": {},
   "source": [
    "### Dissection of an API Call\n",
    "\n",
    "#### HTTP Methods\n",
    "\n",
    "- GET request\n",
    "    - Retrieve data\n",
    "- POST request\n",
    "    - Send new data\n",
    "- PUT request\n",
    "    - Update data\n",
    "- DELETE request\n",
    "    - Remove data\n",
    "\n",
    "#### Endpoint Naming Convention\n",
    "\n",
    "##### Context Roots\n",
    "In an API, a context root identifies a web application archive (WAR) file in an application server and determines which URLs the server will delegate to the web application.\n",
    "\n",
    "In the contexts of this class and this API, the context root is listed above in the second block of code:\n",
    "\n",
    "    contextRoot = 'https://api-kidternship.thegonzalezes.io'\n",
    "\n",
    "##### Uniform Resource Identifiers (URI)\n",
    "A URI represents address resources to an API. URIs can be singletons (related to only one thing) or collections (related to multiple things). A resource can also contain sub-collection resources.\n",
    "\n",
    "In the contexts of this class and this API, we have two resources with a series of sub-collections:\n",
    "\n",
    "    /wordcloud\n",
    "        /words \n",
    "            - POST (submit words to the word cloud server)\n",
    "        /display\n",
    "            - GET (generate a word cloud with all the words submitted)\n",
    "    /introduction\n",
    "        /hello-world\n",
    "            - GET (sends you a hello world message)\n",
    "        /user-id/{your-name}\n",
    "            - GET (your unique user id)\n",
    "        /food\n",
    "            - POST (submit a fruit or vegetable)\n",
    "    /bakery\n",
    "        *MORE TO COME*\n",
    "\n",
    "\n",
    "#### Get Hello World Message\n",
    "\n",
    "Let's dive into some hands-on fun by testing out a simple GET request! A GET request is like asking a website for information, and it sends back a message with the details you asked for. Ready to see what kind of cool data we can get back? Let's give it a try and explore the response together!"
   ]
  },
  {
   "cell_type": "code",
   "execution_count": null,
   "id": "50fcc6fb",
   "metadata": {},
   "outputs": [],
   "source": [
    "response = requests.get(helloWorldUrl)\n",
    "\n",
    "print('URL: ' + helloWorldUrl)\n",
    "print('Response Code: ' + str(response.status_code))\n",
    "print('Response Message: ' + response.json().get('message'))"
   ]
  },
  {
   "cell_type": "markdown",
   "id": "adc117e0",
   "metadata": {},
   "source": [
    "#### Get User Id\n",
    "\n",
    "Now that we've tried a basic GET request, let's take it up a notch and add a parameter to our request. \n",
    "\n",
    "##### But what exactly is a parameter? \n",
    "In the context of APIs, a parameter is like extra information you provide to fine-tune your request. It’s similar to specifying what kind of ice cream you want at a shop—chocolate or vanilla. By adding parameters, you can get more specific data based on your needs.\n",
    "\n",
    "In this exercise, we’ll add a parameter to our GET request to see how we can control and customize the information we receive. Ready to get more specific? Let's go!\n",
    "\n",
    "Below you will find `insert-your-name-here` replace that with your first name or a nickname and hit the play button."
   ]
  },
  {
   "cell_type": "code",
   "execution_count": null,
   "id": "1edb14f6",
   "metadata": {},
   "outputs": [],
   "source": [
    "userIdUrlWithParam = userIdUrl + '/insert-your-name-here'\n",
    "\n",
    "response = requests.get(userIdUrlWithParam)\n",
    "\n",
    "print('URL: ' + userIdUrlWithParam)\n",
    "print('Response Code: ' + str(response.status_code))\n",
    "print('Response Message: ' + response.json().get('message'))"
   ]
  },
  {
   "cell_type": "markdown",
   "id": "73d18b6e",
   "metadata": {},
   "source": [
    "#### Input Validation and Sanitization\n",
    "\n",
    "In this exercise, we're diving into the important world of input validation and sanitization. Input validation is like a security guard that checks if the data being entered is correct and safe. Sanitization, on the other hand, cleans up the input to remove any unwanted or harmful parts. This is crucial to ensure that our applications are secure and work as expected.\n",
    "\n",
    "We'll pass in a list of fruits and vegetables to see how the system handles our inputs. But here’s the twist: we have a \"forbidden list\" of fruits that aren't allowed. What do you think will happen if we try to sneak one of these forbidden fruits into our list? This exercise will show us how input validation and sanitization catch and handle such cases. Ready to test the boundaries? Let’s find out what happens!\n",
    "\n",
    "Find `INSERT FRUIT OR VEGETABLE HERE` in the code block below and replace the sentence with a fruit or vegetable and hit the play button.\n",
    "\n",
    "There are 7 fruits and vegetables that aren't allowed. Try and find them all!"
   ]
  },
  {
   "cell_type": "code",
   "execution_count": null,
   "id": "0f31bf82",
   "metadata": {},
   "outputs": [],
   "source": [
    "food = {'food': 'INSERT FRUIT OR VEGETABLE HERE'}\n",
    "\n",
    "response = requests.post(foodUrl, json = food)\n",
    "\n",
    "print('URL: ' + foodUrl)\n",
    "print('Response Code: ' + str(response.status_code))\n",
    "print('Response Message: '+ response.json().get('message'))"
   ]
  },
  {
   "cell_type": "markdown",
   "id": "520040ea-58de-4108-acc8-c1622a5405d9",
   "metadata": {},
   "source": [
    "Keep track of the fruits and vegetables that are banned here:\n",
    "    \n",
    "\n",
    "Keep track of the fruits and vegetables that are not banned here:\n",
    "    "
   ]
  },
  {
   "cell_type": "markdown",
   "id": "8b3a5656",
   "metadata": {},
   "source": [
    "#### Data Formatting using JSON \n",
    "\n",
    "JSON, which stands for JavaScript Object Notation, is a lightweight and easy-to-read format for storing and exchanging data. Imagine it as a way to organize information so that both humans and computers can easily understand it. JSON looks like a collection of key-value pairs, kind of like a dictionary or a list of items with labels. It's widely used in APIs to send data between a server and a client. In this section, we'll explore how JSON works, how to read and write it, and why it's such a powerful tool in programming. Get ready to unlock the secrets of data exchange with JSON!"
   ]
  },
  {
   "cell_type": "markdown",
   "id": "4a845fd2",
   "metadata": {},
   "source": [
    "### Welcome to the Bakery API Playground!\n",
    "\n",
    "In this section, you’re free to explore and interact with our delightful bakery API. Imagine being the master chef, placing orders, and checking out the delicious menu — all with the power of APIs!\n",
    "\n",
    "Endpoints for this section:\n",
    "\n",
    "    /bakery\n",
    "        /menu\n",
    "            - GET (returns all menu items)\n",
    "            /<category>\n",
    "                - GET (returns all menu items for a given category)\n",
    "        /orders\n",
    "            - POST (send a new order)\n",
    "            - GET (returns all orders)\n",
    "            - PUT (update the status for a specific order)\n",
    "            /<orderNumber>\n",
    "                - GET (return a specific order)\n",
    "                \n",
    "Get creative with different inputs and see the magic unfold! Let’s have some fun in our digital bakery kitchen!"
   ]
  },
  {
   "cell_type": "markdown",
   "id": "bd323822",
   "metadata": {},
   "source": [
    "#### Get All Menu Items\n",
    "🎉 Get Ready to Explore the Menu! 🎉\n",
    "\n",
    "In the code block below, all you have to do is press the play button and voilà! Watch as all the menu items magically appear. No need for any user input – just sit back and enjoy the show!"
   ]
  },
  {
   "cell_type": "code",
   "execution_count": null,
   "id": "9fb95bf1",
   "metadata": {},
   "outputs": [],
   "source": [
    "response = requests.get(menuUrl)\n",
    "\n",
    "print('URL: ' + menuUrl)\n",
    "print('Response Code: ' + str(response.status_code))\n",
    "print('Response Message:')\n",
    "print(response.text)"
   ]
  },
  {
   "cell_type": "markdown",
   "id": "8bca03a4",
   "metadata": {},
   "source": [
    "#### Get All Menu Items For A Given Category\n",
    "🕵️‍♂️ Category Challenge! 🕵️‍♀️\n",
    "\n",
    "Here, you can swap out `insert-a-category-here` with a category from the previous results and discover all the items within that category. Feeling adventurous? Try a category that doesn't exist and see what surprises await!"
   ]
  },
  {
   "cell_type": "code",
   "execution_count": null,
   "id": "7e5f0ec9",
   "metadata": {},
   "outputs": [],
   "source": [
    "menuUrlWithParam = menuUrl + '/insert-a-category-here'\n",
    "\n",
    "response = requests.get(menuUrlWithParam)\n",
    "\n",
    "print('URL: ' + menuUrlWithParam)\n",
    "print('Response Code: ' + str(response.status_code))\n",
    "print('Response Message:')\n",
    "print(response.text)"
   ]
  },
  {
   "cell_type": "markdown",
   "id": "ffa0fe80",
   "metadata": {},
   "source": [
    "#### Get All Orders\n",
    "🍽️ Order Time! 🍽️\n",
    "\n",
    "In the code block below, you'll find all the current orders. No user input is needed for this one either. Just hit the play button and watch the orders roll in!"
   ]
  },
  {
   "cell_type": "code",
   "execution_count": null,
   "id": "f2f489b5",
   "metadata": {},
   "outputs": [],
   "source": [
    "response = requests.get(ordersUrl)\n",
    "\n",
    "print('URL: ' + ordersUrl)\n",
    "print('Response Code: ' + str(response.status_code))\n",
    "print('Response Message:')\n",
    "print(response.text)"
   ]
  },
  {
   "cell_type": "markdown",
   "id": "b9e499cb",
   "metadata": {},
   "source": [
    "#### Post An Order\n",
    "🛒 Place Your Order! 🛒\n",
    "\n",
    "In this code block, you can place an order using the responses you received from the menu code block. Go ahead, place an order, and see what happens when you try to order something that's not on the menu. Fun times ahead!"
   ]
  },
  {
   "cell_type": "code",
   "execution_count": null,
   "id": "76261403",
   "metadata": {},
   "outputs": [],
   "source": [
    "myOrder = {\n",
    "    'orderItem': '',\n",
    "    'flavor': '',\n",
    "    'size': '',\n",
    "    'temp': ''\n",
    "}\n",
    "\n",
    "response = requests.post(ordersUrl, json = myOrder)\n",
    "\n",
    "print('URL: ' + ordersUrl)\n",
    "print('Response Code: ' + str(response.status_code))\n",
    "print('Order Id: ' + response.text)"
   ]
  },
  {
   "cell_type": "markdown",
   "id": "2e51582b-5111-47e0-a895-fdc5be55b247",
   "metadata": {},
   "source": [
    "Keep track of order ids:\n",
    "    "
   ]
  },
  {
   "cell_type": "markdown",
   "id": "06db69b5",
   "metadata": {},
   "source": [
    "#### Get A Specific Order\n",
    "🔍 Order Detective! 🔍\n",
    "\n",
    "Next up, this code block lets you send an order number as a parameter to retrieve all the details about that specific order. Dive into the specifics and become the ultimate order detective!"
   ]
  },
  {
   "cell_type": "code",
   "execution_count": null,
   "id": "17bc5cf5",
   "metadata": {},
   "outputs": [],
   "source": [
    "ordersUrlWithParam = ordersUrl + '/insert-order-number-here'\n",
    "\n",
    "response = requests.get(ordersUrlWithParam)\n",
    "\n",
    "print('URL: ' + ordersUrlWithParam)\n",
    "print('Response Code: ' + str(response.status_code))\n",
    "print('Response Message:')\n",
    "print(response.text)"
   ]
  },
  {
   "cell_type": "markdown",
   "id": "5b75cbf7",
   "metadata": {},
   "source": [
    "#### Update An Order Status\n",
    "🔧 Update Your Order Status! 🔧\n",
    "\n",
    "Finally, in this code block, you'll send in an order number and status to update that order's status. Give it a try and see how the status changes right before your eyes!"
   ]
  },
  {
   "cell_type": "code",
   "execution_count": null,
   "id": "d381d11d",
   "metadata": {},
   "outputs": [],
   "source": [
    "myOrder = {\n",
    "    'orderNumber': '',\n",
    "    'status': ''\n",
    "}\n",
    "\n",
    "response = requests.put(ordersUrl, json = myOrder)\n",
    "\n",
    "print('URL: ' + ordersUrl)\n",
    "print('Response Code: ' + str(response.status_code))\n",
    "print('Response Message:')\n",
    "print(response.text)"
   ]
  },
  {
   "cell_type": "markdown",
   "id": "d4fcac95-8249-49ea-9e43-3304a4430ae4",
   "metadata": {},
   "source": [
    "### Appendix\n",
    "\n",
    "#### HTTP Status Codes\n",
    "\n",
    "- 1xx Series - Informational Response\n",
    "    - 100: Continue \n",
    "- 2xx Series - Successful Response\n",
    "    - 200: OK\n",
    "- 3xx Series - Redirection Response\n",
    "    - 301: Moved Permanently\n",
    "- 4xx Series - Client Error Response\n",
    "    - 400: Bad Request\n",
    "    - 401: Unauthorized\n",
    "    - 403: Forbidden\n",
    "    - 404: Not Found\n",
    "    - 405: Method Not Allowed\n",
    "- 5xx Series - Server Error Response\n",
    "    - 500: Internal Server Error"
   ]
  }
 ],
 "metadata": {
  "kernelspec": {
   "display_name": "Python 3 (ipykernel)",
   "language": "python",
   "name": "python3"
  },
  "language_info": {
   "codemirror_mode": {
    "name": "ipython",
    "version": 3
   },
   "file_extension": ".py",
   "mimetype": "text/x-python",
   "name": "python",
   "nbconvert_exporter": "python",
   "pygments_lexer": "ipython3",
   "version": "3.12.4"
  }
 },
 "nbformat": 4,
 "nbformat_minor": 5
}
